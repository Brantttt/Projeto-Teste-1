{
  "nbformat": 4,
  "nbformat_minor": 0,
  "metadata": {
    "colab": {
      "provenance": [],
      "authorship_tag": "ABX9TyP86D8R/iECFU9Veqrqvk83",
      "include_colab_link": true
    },
    "kernelspec": {
      "name": "python3",
      "display_name": "Python 3"
    },
    "language_info": {
      "name": "python"
    }
  },
  "cells": [
    {
      "cell_type": "markdown",
      "metadata": {
        "id": "view-in-github",
        "colab_type": "text"
      },
      "source": [
        "<a href=\"https://colab.research.google.com/github/Brantttt/Projeto-Teste-1/blob/main/ProjetoTesteColab.ipynb\" target=\"_parent\"><img src=\"https://colab.research.google.com/assets/colab-badge.svg\" alt=\"Open In Colab\"/></a>"
      ]
    },
    {
      "cell_type": "code",
      "execution_count": null,
      "metadata": {
        "colab": {
          "base_uri": "https://localhost:8080/"
        },
        "id": "xrWtyMEZawHx",
        "outputId": "40c4ac99-7d9b-42ae-c3cd-fe42cf238064"
      },
      "outputs": [
        {
          "output_type": "stream",
          "name": "stdout",
          "text": [
            "Digite o nome da pessoa: Daniel\n",
            "Digite a idade da pessoa: 15\n",
            "Digite o nome da pessoa:Carla\n",
            "Digite a idade da pessoa: 43\n",
            "Nome:  Daniel Idade:  15\n",
            "Nome: Carla Idade: 43\n"
          ]
        }
      ],
      "source": [
        "nome = input(\"Digite o nome da pessoa: \")\n",
        "idade = input(\"Digite a idade da pessoa: \")\n",
        "nome1 = input(\"Digite o nome da pessoa:\")\n",
        "idade1 = input(\"Digite a idade da pessoa: \")\n",
        "print(\"Nome: \", nome, \"Idade: \", idade)\n",
        "print(f\"Nome: {nome1} Idade: {idade1}\")"
      ]
    }
  ]
}